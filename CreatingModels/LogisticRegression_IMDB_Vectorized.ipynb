{
 "cells": [
  {
   "cell_type": "code",
   "execution_count": 1,
   "id": "1ba53a5b",
   "metadata": {},
   "outputs": [],
   "source": [
    "import numpy as np\n",
    "import pandas as pd \n",
    "import re \n",
    "from nltk.corpus import stopwords\n",
    "from string import punctuation\n",
    "import re\n",
    "from bs4 import BeautifulSoup\n",
    "from sklearn.model_selection import train_test_split\n",
    "from nltk.tokenize import word_tokenize\n",
    "from nltk.stem import PorterStemmer\n",
    "from sklearn.feature_extraction.text import CountVectorizer, TfidfVectorizer\n",
    "from sklearn.metrics import classification_report\n",
    "from sklearn.linear_model import LogisticRegression"
   ]
  },
  {
   "cell_type": "code",
   "execution_count": 2,
   "id": "7a17b133",
   "metadata": {},
   "outputs": [
    {
     "name": "stderr",
     "output_type": "stream",
     "text": [
      "C:\\Users\\wojte\\AppData\\Local\\Temp\\ipykernel_26248\\3679309076.py:16: MarkupResemblesLocatorWarning: The input looks more like a filename than markup. You may want to open this file and pass the filehandle into Beautiful Soup.\n",
      "  soup = BeautifulSoup(text, \"html.parser\")\n"
     ]
    }
   ],
   "source": [
    "df=pd.read_csv('./IMDB_dataset/IMDB dataset.csv')\n",
    "\n",
    "stop = set(stopwords.words('english'))\n",
    "punctuation = list(punctuation)\n",
    "stop.update(punctuation)\n",
    "\n",
    "def remove_stopwords(text, stopwords_set):\n",
    "    output = []\n",
    "    for i in text.split():\n",
    "        word = i.strip().lower()\n",
    "        if word not in stopwords_set and word.isalpha():\n",
    "            output.append(word)\n",
    "    return \" \".join(output)\n",
    "    \n",
    "def process_data(text):\n",
    "    soup = BeautifulSoup(text, \"html.parser\")\n",
    "    text = soup.get_text()\n",
    "    text = re.sub(r'https?:\\/\\/.*[\\r\\n]*', '', text)\n",
    "    text = remove_stopwords(text, stop)\n",
    "    return text\n",
    "\n",
    "df['review']=df['review'].apply(process_data)\n",
    "\n",
    "df.sentiment.replace(\"positive\" , 1 , inplace = True)\n",
    "df.sentiment.replace(\"negative\" , 0 , inplace = True)\n"
   ]
  },
  {
   "cell_type": "markdown",
   "id": "48ef3ab9",
   "metadata": {},
   "source": [
    "## Count Vectorized"
   ]
  },
  {
   "cell_type": "code",
   "execution_count": 3,
   "id": "35ed16ee",
   "metadata": {},
   "outputs": [],
   "source": [
    "X = df['review']\n",
    "Y = df['sentiment']\n",
    "\n",
    "x_train, x_test, y_train, y_test = train_test_split(X, Y, test_size=0.2, stratify=Y, random_state=42)\n",
    "\n",
    "x_train = x_train.reset_index(drop=True)\n",
    "y_train = y_train.reset_index(drop=True)\n",
    "x_test = x_test.reset_index(drop=True)\n",
    "y_test = y_test.reset_index(drop=True)"
   ]
  },
  {
   "cell_type": "code",
   "execution_count": 4,
   "id": "9a2159a8",
   "metadata": {},
   "outputs": [
    {
     "name": "stdout",
     "output_type": "stream",
     "text": [
      "(40000, 76074)\n"
     ]
    }
   ],
   "source": [
    "vectorized = CountVectorizer()\n",
    "x_train_cv= vectorized.fit_transform(x_train)\n",
    "print(x_train_cv.shape)"
   ]
  },
  {
   "cell_type": "code",
   "execution_count": 5,
   "id": "559fbcae",
   "metadata": {},
   "outputs": [
    {
     "data": {
      "text/html": [
       "<style>#sk-container-id-1 {color: black;background-color: white;}#sk-container-id-1 pre{padding: 0;}#sk-container-id-1 div.sk-toggleable {background-color: white;}#sk-container-id-1 label.sk-toggleable__label {cursor: pointer;display: block;width: 100%;margin-bottom: 0;padding: 0.3em;box-sizing: border-box;text-align: center;}#sk-container-id-1 label.sk-toggleable__label-arrow:before {content: \"▸\";float: left;margin-right: 0.25em;color: #696969;}#sk-container-id-1 label.sk-toggleable__label-arrow:hover:before {color: black;}#sk-container-id-1 div.sk-estimator:hover label.sk-toggleable__label-arrow:before {color: black;}#sk-container-id-1 div.sk-toggleable__content {max-height: 0;max-width: 0;overflow: hidden;text-align: left;background-color: #f0f8ff;}#sk-container-id-1 div.sk-toggleable__content pre {margin: 0.2em;color: black;border-radius: 0.25em;background-color: #f0f8ff;}#sk-container-id-1 input.sk-toggleable__control:checked~div.sk-toggleable__content {max-height: 200px;max-width: 100%;overflow: auto;}#sk-container-id-1 input.sk-toggleable__control:checked~label.sk-toggleable__label-arrow:before {content: \"▾\";}#sk-container-id-1 div.sk-estimator input.sk-toggleable__control:checked~label.sk-toggleable__label {background-color: #d4ebff;}#sk-container-id-1 div.sk-label input.sk-toggleable__control:checked~label.sk-toggleable__label {background-color: #d4ebff;}#sk-container-id-1 input.sk-hidden--visually {border: 0;clip: rect(1px 1px 1px 1px);clip: rect(1px, 1px, 1px, 1px);height: 1px;margin: -1px;overflow: hidden;padding: 0;position: absolute;width: 1px;}#sk-container-id-1 div.sk-estimator {font-family: monospace;background-color: #f0f8ff;border: 1px dotted black;border-radius: 0.25em;box-sizing: border-box;margin-bottom: 0.5em;}#sk-container-id-1 div.sk-estimator:hover {background-color: #d4ebff;}#sk-container-id-1 div.sk-parallel-item::after {content: \"\";width: 100%;border-bottom: 1px solid gray;flex-grow: 1;}#sk-container-id-1 div.sk-label:hover label.sk-toggleable__label {background-color: #d4ebff;}#sk-container-id-1 div.sk-serial::before {content: \"\";position: absolute;border-left: 1px solid gray;box-sizing: border-box;top: 0;bottom: 0;left: 50%;z-index: 0;}#sk-container-id-1 div.sk-serial {display: flex;flex-direction: column;align-items: center;background-color: white;padding-right: 0.2em;padding-left: 0.2em;position: relative;}#sk-container-id-1 div.sk-item {position: relative;z-index: 1;}#sk-container-id-1 div.sk-parallel {display: flex;align-items: stretch;justify-content: center;background-color: white;position: relative;}#sk-container-id-1 div.sk-item::before, #sk-container-id-1 div.sk-parallel-item::before {content: \"\";position: absolute;border-left: 1px solid gray;box-sizing: border-box;top: 0;bottom: 0;left: 50%;z-index: -1;}#sk-container-id-1 div.sk-parallel-item {display: flex;flex-direction: column;z-index: 1;position: relative;background-color: white;}#sk-container-id-1 div.sk-parallel-item:first-child::after {align-self: flex-end;width: 50%;}#sk-container-id-1 div.sk-parallel-item:last-child::after {align-self: flex-start;width: 50%;}#sk-container-id-1 div.sk-parallel-item:only-child::after {width: 0;}#sk-container-id-1 div.sk-dashed-wrapped {border: 1px dashed gray;margin: 0 0.4em 0.5em 0.4em;box-sizing: border-box;padding-bottom: 0.4em;background-color: white;}#sk-container-id-1 div.sk-label label {font-family: monospace;font-weight: bold;display: inline-block;line-height: 1.2em;}#sk-container-id-1 div.sk-label-container {text-align: center;}#sk-container-id-1 div.sk-container {/* jupyter's `normalize.less` sets `[hidden] { display: none; }` but bootstrap.min.css set `[hidden] { display: none !important; }` so we also need the `!important` here to be able to override the default hidden behavior on the sphinx rendered scikit-learn.org. See: https://github.com/scikit-learn/scikit-learn/issues/21755 */display: inline-block !important;position: relative;}#sk-container-id-1 div.sk-text-repr-fallback {display: none;}</style><div id=\"sk-container-id-1\" class=\"sk-top-container\"><div class=\"sk-text-repr-fallback\"><pre>LogisticRegression(max_iter=2000)</pre><b>In a Jupyter environment, please rerun this cell to show the HTML representation or trust the notebook. <br />On GitHub, the HTML representation is unable to render, please try loading this page with nbviewer.org.</b></div><div class=\"sk-container\" hidden><div class=\"sk-item\"><div class=\"sk-estimator sk-toggleable\"><input class=\"sk-toggleable__control sk-hidden--visually\" id=\"sk-estimator-id-1\" type=\"checkbox\" checked><label for=\"sk-estimator-id-1\" class=\"sk-toggleable__label sk-toggleable__label-arrow\">LogisticRegression</label><div class=\"sk-toggleable__content\"><pre>LogisticRegression(max_iter=2000)</pre></div></div></div></div></div>"
      ],
      "text/plain": [
       "LogisticRegression(max_iter=2000)"
      ]
     },
     "execution_count": 5,
     "metadata": {},
     "output_type": "execute_result"
    }
   ],
   "source": [
    "from sklearn.linear_model  import LogisticRegression\n",
    "model = LogisticRegression( max_iter=2000)\n",
    "model.fit(x_train_cv, y_train)"
   ]
  },
  {
   "cell_type": "code",
   "execution_count": 6,
   "id": "6ca1d648",
   "metadata": {},
   "outputs": [
    {
     "name": "stdout",
     "output_type": "stream",
     "text": [
      "              precision    recall  f1-score   support\n",
      "\n",
      "           0       0.87      0.86      0.86      5000\n",
      "           1       0.86      0.87      0.86      5000\n",
      "\n",
      "    accuracy                           0.86     10000\n",
      "   macro avg       0.86      0.86      0.86     10000\n",
      "weighted avg       0.86      0.86      0.86     10000\n",
      "\n"
     ]
    }
   ],
   "source": [
    "x_test_cv= vectorized.transform(x_test)\n",
    "y_pred = model.predict(x_test_cv)\n",
    "\n",
    "print(classification_report(y_test,y_pred))"
   ]
  },
  {
   "cell_type": "code",
   "execution_count": 7,
   "id": "21da97ff",
   "metadata": {},
   "outputs": [],
   "source": [
    "def count_acc(y_test, y_pred):\n",
    "    count = 0\n",
    "    accurate = 0\n",
    "    for y_t, y_p in zip(y_test, y_pred):\n",
    "        if(y_t == y_p):\n",
    "            accurate += 1\n",
    "        count += 1\n",
    "    return accurate/count\n"
   ]
  },
  {
   "cell_type": "code",
   "execution_count": 8,
   "id": "604a1c9e",
   "metadata": {},
   "outputs": [
    {
     "data": {
      "text/plain": [
       "0.8643"
      ]
     },
     "execution_count": 8,
     "metadata": {},
     "output_type": "execute_result"
    }
   ],
   "source": [
    "count_acc(y_test, y_pred)"
   ]
  },
  {
   "cell_type": "markdown",
   "id": "8524f181",
   "metadata": {},
   "source": [
    "## tdidf Vectorized - ważenie częstością termów\n"
   ]
  },
  {
   "cell_type": "code",
   "execution_count": 9,
   "id": "2b8e3a5e",
   "metadata": {},
   "outputs": [],
   "source": [
    "tf =TfidfVectorizer()\n",
    "x_train_tfidf = tf.fit_transform(x_train)"
   ]
  },
  {
   "cell_type": "code",
   "execution_count": 10,
   "id": "19490202",
   "metadata": {},
   "outputs": [
    {
     "data": {
      "text/plain": [
       "<40000x76074 sparse matrix of type '<class 'numpy.float64'>'\n",
       "\twith 3042762 stored elements in Compressed Sparse Row format>"
      ]
     },
     "execution_count": 10,
     "metadata": {},
     "output_type": "execute_result"
    }
   ],
   "source": [
    "x_train_tfidf"
   ]
  },
  {
   "cell_type": "code",
   "execution_count": 11,
   "id": "b8daedb3",
   "metadata": {},
   "outputs": [
    {
     "name": "stdout",
     "output_type": "stream",
     "text": [
      "  (0, 16546)\t0.15301641197953095\n",
      "  (0, 74917)\t0.10472957402406909\n",
      "  (0, 54284)\t0.053650134453322056\n",
      "  (0, 26037)\t0.09083035885077492\n",
      "  (0, 51026)\t0.1868857855192045\n",
      "  (0, 16697)\t0.15959871523883326\n",
      "  (0, 73817)\t0.06481486145577282\n",
      "  (0, 52064)\t0.07687431511282261\n",
      "  (0, 36967)\t0.06611599380373313\n",
      "  (0, 1788)\t0.059406498378365834\n",
      "  (0, 19646)\t0.18440334196575395\n",
      "  (0, 17642)\t0.10300445929796262\n",
      "  (0, 64211)\t0.10569449360116356\n",
      "  (0, 22924)\t0.10281313931952703\n",
      "  (0, 38849)\t0.04373398023640747\n",
      "  (0, 50725)\t0.0866751079524233\n",
      "  (0, 28011)\t0.15226058980495286\n",
      "  (0, 22212)\t0.10261036159761709\n",
      "  (0, 40281)\t0.061123554142555145\n",
      "  (0, 61806)\t0.14267168444841535\n",
      "  (0, 28478)\t0.15893499423539514\n",
      "  (0, 27380)\t0.09417977757797949\n",
      "  (0, 39477)\t0.1739384072551657\n",
      "  (0, 29224)\t0.13244969139684065\n",
      "  (0, 33824)\t0.09326564577675205\n",
      "  :\t:\n",
      "  (39999, 10667)\t0.1194042211227379\n",
      "  (39999, 585)\t0.1024789144755468\n",
      "  (39999, 23270)\t0.10272353754139776\n",
      "  (39999, 55778)\t0.13895653246719814\n",
      "  (39999, 31233)\t0.10767473929891769\n",
      "  (39999, 39589)\t0.10847419952600565\n",
      "  (39999, 1751)\t0.12380688330338646\n",
      "  (39999, 56840)\t0.09539970555063035\n",
      "  (39999, 601)\t0.07997339990035549\n",
      "  (39999, 30722)\t0.0996110685390056\n",
      "  (39999, 69536)\t0.09126241669937199\n",
      "  (39999, 38294)\t0.09663515338248818\n",
      "  (39999, 67662)\t0.08453963802001722\n",
      "  (39999, 23261)\t0.09816830054027367\n",
      "  (39999, 67556)\t0.06765380181473515\n",
      "  (39999, 56670)\t0.11952090030708665\n",
      "  (39999, 49498)\t0.06635301121532478\n",
      "  (39999, 47206)\t0.0433866695052569\n",
      "  (39999, 32627)\t0.14812580852649324\n",
      "  (39999, 25789)\t0.10743812723031383\n",
      "  (39999, 44388)\t0.12788910502763065\n",
      "  (39999, 1788)\t0.06445054163127811\n",
      "  (39999, 40281)\t0.0663133879028808\n",
      "  (39999, 31801)\t0.11453313351044847\n",
      "  (39999, 59240)\t0.05726703072163913\n"
     ]
    }
   ],
   "source": [
    "print(x_train_tfidf)"
   ]
  },
  {
   "cell_type": "markdown",
   "id": "095522ce",
   "metadata": {},
   "source": [
    "### The tuple represents: (document_id, token_id)\n",
    "The value following the tuple represents the tf-idf score of a given token in a given document\n",
    "\n",
    "The tuples that are not there have a tf-idf score of 0\n",
    "\n",
    "If you want to find what token the token_id corresponds to, check the get_feature_names method.\n",
    "\n"
   ]
  },
  {
   "cell_type": "code",
   "execution_count": 12,
   "id": "d4b65afc",
   "metadata": {},
   "outputs": [
    {
     "name": "stdout",
     "output_type": "stream",
     "text": [
      "(40000, 76074)\n"
     ]
    }
   ],
   "source": [
    "print(x_train_tfidf.shape)"
   ]
  },
  {
   "cell_type": "code",
   "execution_count": 13,
   "id": "c192492c",
   "metadata": {},
   "outputs": [
    {
     "data": {
      "text/plain": [
       "array(['aa', 'aaa', 'aaaahhhhhh', ..., 'üvegtigris', 'üzümcü', 'ýs'],\n",
       "      dtype=object)"
      ]
     },
     "execution_count": 13,
     "metadata": {},
     "output_type": "execute_result"
    }
   ],
   "source": [
    "tf.get_feature_names_out()"
   ]
  },
  {
   "cell_type": "code",
   "execution_count": 14,
   "id": "081710fc",
   "metadata": {},
   "outputs": [
    {
     "data": {
      "text/plain": [
       "(76074,)"
      ]
     },
     "execution_count": 14,
     "metadata": {},
     "output_type": "execute_result"
    }
   ],
   "source": [
    "tf.get_feature_names_out().shape"
   ]
  },
  {
   "cell_type": "code",
   "execution_count": 15,
   "id": "99ba7109",
   "metadata": {},
   "outputs": [
    {
     "data": {
      "text/plain": [
       "'definite'"
      ]
     },
     "execution_count": 15,
     "metadata": {},
     "output_type": "execute_result"
    }
   ],
   "source": [
    "tf.get_feature_names_out()[16546]"
   ]
  },
  {
   "cell_type": "code",
   "execution_count": 16,
   "id": "583aca5e",
   "metadata": {},
   "outputs": [
    {
     "data": {
      "text/html": [
       "<style>#sk-container-id-2 {color: black;background-color: white;}#sk-container-id-2 pre{padding: 0;}#sk-container-id-2 div.sk-toggleable {background-color: white;}#sk-container-id-2 label.sk-toggleable__label {cursor: pointer;display: block;width: 100%;margin-bottom: 0;padding: 0.3em;box-sizing: border-box;text-align: center;}#sk-container-id-2 label.sk-toggleable__label-arrow:before {content: \"▸\";float: left;margin-right: 0.25em;color: #696969;}#sk-container-id-2 label.sk-toggleable__label-arrow:hover:before {color: black;}#sk-container-id-2 div.sk-estimator:hover label.sk-toggleable__label-arrow:before {color: black;}#sk-container-id-2 div.sk-toggleable__content {max-height: 0;max-width: 0;overflow: hidden;text-align: left;background-color: #f0f8ff;}#sk-container-id-2 div.sk-toggleable__content pre {margin: 0.2em;color: black;border-radius: 0.25em;background-color: #f0f8ff;}#sk-container-id-2 input.sk-toggleable__control:checked~div.sk-toggleable__content {max-height: 200px;max-width: 100%;overflow: auto;}#sk-container-id-2 input.sk-toggleable__control:checked~label.sk-toggleable__label-arrow:before {content: \"▾\";}#sk-container-id-2 div.sk-estimator input.sk-toggleable__control:checked~label.sk-toggleable__label {background-color: #d4ebff;}#sk-container-id-2 div.sk-label input.sk-toggleable__control:checked~label.sk-toggleable__label {background-color: #d4ebff;}#sk-container-id-2 input.sk-hidden--visually {border: 0;clip: rect(1px 1px 1px 1px);clip: rect(1px, 1px, 1px, 1px);height: 1px;margin: -1px;overflow: hidden;padding: 0;position: absolute;width: 1px;}#sk-container-id-2 div.sk-estimator {font-family: monospace;background-color: #f0f8ff;border: 1px dotted black;border-radius: 0.25em;box-sizing: border-box;margin-bottom: 0.5em;}#sk-container-id-2 div.sk-estimator:hover {background-color: #d4ebff;}#sk-container-id-2 div.sk-parallel-item::after {content: \"\";width: 100%;border-bottom: 1px solid gray;flex-grow: 1;}#sk-container-id-2 div.sk-label:hover label.sk-toggleable__label {background-color: #d4ebff;}#sk-container-id-2 div.sk-serial::before {content: \"\";position: absolute;border-left: 1px solid gray;box-sizing: border-box;top: 0;bottom: 0;left: 50%;z-index: 0;}#sk-container-id-2 div.sk-serial {display: flex;flex-direction: column;align-items: center;background-color: white;padding-right: 0.2em;padding-left: 0.2em;position: relative;}#sk-container-id-2 div.sk-item {position: relative;z-index: 1;}#sk-container-id-2 div.sk-parallel {display: flex;align-items: stretch;justify-content: center;background-color: white;position: relative;}#sk-container-id-2 div.sk-item::before, #sk-container-id-2 div.sk-parallel-item::before {content: \"\";position: absolute;border-left: 1px solid gray;box-sizing: border-box;top: 0;bottom: 0;left: 50%;z-index: -1;}#sk-container-id-2 div.sk-parallel-item {display: flex;flex-direction: column;z-index: 1;position: relative;background-color: white;}#sk-container-id-2 div.sk-parallel-item:first-child::after {align-self: flex-end;width: 50%;}#sk-container-id-2 div.sk-parallel-item:last-child::after {align-self: flex-start;width: 50%;}#sk-container-id-2 div.sk-parallel-item:only-child::after {width: 0;}#sk-container-id-2 div.sk-dashed-wrapped {border: 1px dashed gray;margin: 0 0.4em 0.5em 0.4em;box-sizing: border-box;padding-bottom: 0.4em;background-color: white;}#sk-container-id-2 div.sk-label label {font-family: monospace;font-weight: bold;display: inline-block;line-height: 1.2em;}#sk-container-id-2 div.sk-label-container {text-align: center;}#sk-container-id-2 div.sk-container {/* jupyter's `normalize.less` sets `[hidden] { display: none; }` but bootstrap.min.css set `[hidden] { display: none !important; }` so we also need the `!important` here to be able to override the default hidden behavior on the sphinx rendered scikit-learn.org. See: https://github.com/scikit-learn/scikit-learn/issues/21755 */display: inline-block !important;position: relative;}#sk-container-id-2 div.sk-text-repr-fallback {display: none;}</style><div id=\"sk-container-id-2\" class=\"sk-top-container\"><div class=\"sk-text-repr-fallback\"><pre>LogisticRegression(max_iter=1000)</pre><b>In a Jupyter environment, please rerun this cell to show the HTML representation or trust the notebook. <br />On GitHub, the HTML representation is unable to render, please try loading this page with nbviewer.org.</b></div><div class=\"sk-container\" hidden><div class=\"sk-item\"><div class=\"sk-estimator sk-toggleable\"><input class=\"sk-toggleable__control sk-hidden--visually\" id=\"sk-estimator-id-2\" type=\"checkbox\" checked><label for=\"sk-estimator-id-2\" class=\"sk-toggleable__label sk-toggleable__label-arrow\">LogisticRegression</label><div class=\"sk-toggleable__content\"><pre>LogisticRegression(max_iter=1000)</pre></div></div></div></div></div>"
      ],
      "text/plain": [
       "LogisticRegression(max_iter=1000)"
      ]
     },
     "execution_count": 16,
     "metadata": {},
     "output_type": "execute_result"
    }
   ],
   "source": [
    "model = LogisticRegression(max_iter=1000)\n",
    "model.fit(x_train_tfidf, y_train)"
   ]
  },
  {
   "cell_type": "code",
   "execution_count": 17,
   "id": "a3d9e1e1",
   "metadata": {},
   "outputs": [
    {
     "name": "stdout",
     "output_type": "stream",
     "text": [
      "              precision    recall  f1-score   support\n",
      "\n",
      "           0       0.88      0.86      0.87      5000\n",
      "           1       0.87      0.89      0.88      5000\n",
      "\n",
      "    accuracy                           0.88     10000\n",
      "   macro avg       0.88      0.88      0.88     10000\n",
      "weighted avg       0.88      0.88      0.88     10000\n",
      "\n"
     ]
    }
   ],
   "source": [
    "x_test_tfidf =tf.transform(x_test)\n",
    "\n",
    "y_pred = model.predict(x_test_tfidf)\n",
    "\n",
    "print(classification_report(y_test,y_pred))"
   ]
  },
  {
   "cell_type": "code",
   "execution_count": 18,
   "id": "aa70db49",
   "metadata": {},
   "outputs": [
    {
     "data": {
      "text/plain": [
       "0.8758"
      ]
     },
     "execution_count": 18,
     "metadata": {},
     "output_type": "execute_result"
    }
   ],
   "source": [
    "count_acc(y_test, y_pred)"
   ]
  },
  {
   "cell_type": "code",
   "execution_count": 19,
   "id": "0f64939b",
   "metadata": {},
   "outputs": [
    {
     "data": {
      "text/plain": [
       "1"
      ]
     },
     "execution_count": 19,
     "metadata": {},
     "output_type": "execute_result"
    }
   ],
   "source": [
    "model.predict(tf.transform([\"team varied scully two guy plays bana go arctic research post members died either killing killing discover parasitic point madness problem certain dog lashes anyone could favorite episode season also one favorites arctic environment encloses characters course like lot fun watching characters suddenly start flip dramatic visual effects worm effects skin mind drama characters ends working would usually tension actors bana understand going loved ambiguity highly\"]))[0]"
   ]
  },
  {
   "cell_type": "code",
   "execution_count": 20,
   "id": "7bbe368e",
   "metadata": {},
   "outputs": [
    {
     "name": "stdout",
     "output_type": "stream",
     "text": [
      "  (0, 27833)\t0.7717709609326816\n",
      "  (0, 24146)\t0.6359006084767062\n"
     ]
    }
   ],
   "source": [
    "print(tf.transform([\"good film\"]))"
   ]
  },
  {
   "cell_type": "code",
   "execution_count": 21,
   "id": "63d2db6f",
   "metadata": {},
   "outputs": [
    {
     "data": {
      "text/plain": [
       "array([[-0.17145302, -0.10037717, -0.05911979, ..., -0.21562221,\n",
       "        -0.00469862,  0.02646795]])"
      ]
     },
     "execution_count": 21,
     "metadata": {},
     "output_type": "execute_result"
    }
   ],
   "source": [
    "model.coef_"
   ]
  },
  {
   "cell_type": "code",
   "execution_count": 22,
   "id": "32594237",
   "metadata": {},
   "outputs": [
    {
     "data": {
      "text/plain": [
       "(1, 76074)"
      ]
     },
     "execution_count": 22,
     "metadata": {},
     "output_type": "execute_result"
    }
   ],
   "source": [
    "model.coef_.shape"
   ]
  },
  {
   "cell_type": "markdown",
   "id": "590d1496",
   "metadata": {},
   "source": [
    "#### coef_ is of shape (1, n_features) when the given problem is binary. In particular, when multi_class='multinomial', coef_ corresponds to outcome 1 (True) and -coef_ corresponds to outcome 0 (False)."
   ]
  },
  {
   "cell_type": "code",
   "execution_count": 23,
   "id": "a2230230",
   "metadata": {},
   "outputs": [],
   "source": [
    "feature_names = tf.get_feature_names_out().tolist()\n",
    "coef = model.coef_[0]"
   ]
  },
  {
   "cell_type": "code",
   "execution_count": 24,
   "id": "e9c3baf8",
   "metadata": {},
   "outputs": [
    {
     "data": {
      "text/plain": [
       "16546"
      ]
     },
     "execution_count": 24,
     "metadata": {},
     "output_type": "execute_result"
    }
   ],
   "source": [
    "feature_names.index(\"definite\")"
   ]
  },
  {
   "cell_type": "code",
   "execution_count": 25,
   "id": "ec7230a1",
   "metadata": {},
   "outputs": [
    {
     "data": {
      "text/plain": [
       "-0.020579948539877678"
      ]
     },
     "execution_count": 25,
     "metadata": {},
     "output_type": "execute_result"
    }
   ],
   "source": [
    "coef[16545]"
   ]
  },
  {
   "cell_type": "code",
   "execution_count": 26,
   "id": "5be7f35d",
   "metadata": {},
   "outputs": [],
   "source": [
    "def get_coef(words, coef, feature_names):\n",
    "    output = {}\n",
    "    for word in words:\n",
    "        if word in feature_names:\n",
    "            index = feature_names.index(word)\n",
    "            c = coef[index]\n",
    "            output[word] = c\n",
    "            \n",
    "    return output"
   ]
  },
  {
   "cell_type": "code",
   "execution_count": 27,
   "id": "23eb5954",
   "metadata": {},
   "outputs": [
    {
     "data": {
      "text/plain": [
       "{'awesome': 2.8882715430419803,\n",
       " 'outstanding': 2.115657216019273,\n",
       " 'funny': 1.037375628934594,\n",
       " 'nice': 1.5731949294125318,\n",
       " 'ba': 0.01454259430691023,\n",
       " 'sad': -0.8065479450395604}"
      ]
     },
     "execution_count": 27,
     "metadata": {},
     "output_type": "execute_result"
    }
   ],
   "source": [
    "get_coef([\"awesome\",\"outstanding\",\"funny\",\"nice\" ,\"ba\", \"sad\"], coef, feature_names)"
   ]
  },
  {
   "cell_type": "code",
   "execution_count": 28,
   "id": "60d111a3",
   "metadata": {},
   "outputs": [],
   "source": [
    "from scipy.sparse import find\n",
    "\n",
    "\n",
    "def get_coef_sentence(sentence, coef, feature_names, tf):\n",
    "    sentence = tf.transform([sentence])\n",
    "    word_indexes = find(sentence)[1]\n",
    "    output = {}\n",
    "    for i in word_indexes:\n",
    "        word = feature_names[i]\n",
    "        c = coef[i]\n",
    "        output[word] = \"{:.2f}\".format(float(c))\n",
    "\n",
    "    return output\n",
    "\n",
    "def split_pos_neg(coef_dict):\n",
    "    pos = {}\n",
    "    neg = {}\n",
    "    for key,value in coef_dict.items():\n",
    "        if float(value) > 0:\n",
    "            pos[key]=value\n",
    "        else:\n",
    "            neg[key] = value\n",
    "    return pos,neg\n",
    "        "
   ]
  },
  {
   "cell_type": "code",
   "execution_count": 29,
   "id": "1d205b36",
   "metadata": {},
   "outputs": [],
   "source": [
    "v = tf.transform([\"dsadas film\"])"
   ]
  },
  {
   "cell_type": "code",
   "execution_count": 30,
   "id": "81ccdabe",
   "metadata": {},
   "outputs": [
    {
     "data": {
      "text/plain": [
       "<1x76074 sparse matrix of type '<class 'numpy.float64'>'\n",
       "\twith 1 stored elements in Compressed Sparse Row format>"
      ]
     },
     "execution_count": 30,
     "metadata": {},
     "output_type": "execute_result"
    }
   ],
   "source": [
    "v"
   ]
  },
  {
   "cell_type": "code",
   "execution_count": 31,
   "id": "35f3de86",
   "metadata": {},
   "outputs": [
    {
     "name": "stdout",
     "output_type": "stream",
     "text": [
      "  (0, 24146)\t1.0\n"
     ]
    }
   ],
   "source": [
    "print(v[0])"
   ]
  },
  {
   "cell_type": "code",
   "execution_count": 32,
   "id": "17aa00c0",
   "metadata": {},
   "outputs": [
    {
     "data": {
      "text/plain": [
       "array([24146])"
      ]
     },
     "execution_count": 32,
     "metadata": {},
     "output_type": "execute_result"
    }
   ],
   "source": [
    "from scipy.sparse import find\n",
    "\n",
    "find(v)[1]"
   ]
  },
  {
   "cell_type": "code",
   "execution_count": 33,
   "id": "a68f547a",
   "metadata": {},
   "outputs": [
    {
     "data": {
      "text/plain": [
       "24146"
      ]
     },
     "execution_count": 33,
     "metadata": {},
     "output_type": "execute_result"
    }
   ],
   "source": [
    "i = find(v)[1][0]\n",
    "i"
   ]
  },
  {
   "cell_type": "code",
   "execution_count": 34,
   "id": "f36514e3",
   "metadata": {},
   "outputs": [
    {
     "data": {
      "text/plain": [
       "'film'"
      ]
     },
     "execution_count": 34,
     "metadata": {},
     "output_type": "execute_result"
    }
   ],
   "source": [
    "feature_names[i]"
   ]
  },
  {
   "cell_type": "code",
   "execution_count": 35,
   "id": "64afbcd7",
   "metadata": {},
   "outputs": [
    {
     "data": {
      "text/plain": [
       "0.8603875172314974"
      ]
     },
     "execution_count": 35,
     "metadata": {},
     "output_type": "execute_result"
    }
   ],
   "source": [
    "coef[i]"
   ]
  },
  {
   "cell_type": "code",
   "execution_count": 36,
   "id": "4d1a9edf",
   "metadata": {},
   "outputs": [
    {
     "data": {
      "text/plain": [
       "{'awesome': '2.89',\n",
       " 'awfull': '-0.19',\n",
       " 'bad': '-7.92',\n",
       " 'film': '0.86',\n",
       " 'good': '2.03',\n",
       " 'outstanding': '2.12',\n",
       " 'perfect': '4.92'}"
      ]
     },
     "execution_count": 36,
     "metadata": {},
     "output_type": "execute_result"
    }
   ],
   "source": [
    "coef_dict = get_coef_sentence(\"bad awesome good perfect awfull film outstanding\", coef, feature_names,tf)\n",
    "coef_dict"
   ]
  },
  {
   "cell_type": "code",
   "execution_count": 37,
   "id": "bb6323f9",
   "metadata": {},
   "outputs": [
    {
     "data": {
      "text/plain": [
       "({'awesome': '2.89',\n",
       "  'film': '0.86',\n",
       "  'good': '2.03',\n",
       "  'outstanding': '2.12',\n",
       "  'perfect': '4.92'},\n",
       " {'awfull': '-0.19', 'bad': '-7.92'})"
      ]
     },
     "execution_count": 37,
     "metadata": {},
     "output_type": "execute_result"
    }
   ],
   "source": [
    "split_pos_neg(coef_dict)"
   ]
  },
  {
   "cell_type": "code",
   "execution_count": 13,
   "id": "53d88880",
   "metadata": {},
   "outputs": [],
   "source": [
    "import pickle"
   ]
  },
  {
   "cell_type": "code",
   "execution_count": 14,
   "id": "e1ce7c6b",
   "metadata": {},
   "outputs": [],
   "source": [
    "filename = 'logistic_regresiom_model.sav'\n",
    "pickle.dump(model, open(filename, 'wb'))"
   ]
  },
  {
   "cell_type": "code",
   "execution_count": 30,
   "id": "e5274775",
   "metadata": {},
   "outputs": [],
   "source": [
    "filename = 'tfidf_model.sav'\n",
    "pickle.dump(tf, open(filename, 'wb'))"
   ]
  },
  {
   "cell_type": "code",
   "execution_count": 31,
   "id": "976d72e4",
   "metadata": {},
   "outputs": [],
   "source": [
    "model_tfidf = pickle.load(open('tfidf_model.sav', 'rb'))\n"
   ]
  },
  {
   "cell_type": "code",
   "execution_count": 35,
   "id": "f61052b6",
   "metadata": {},
   "outputs": [],
   "source": [
    "a= tf.transform([\"team varied scully two guy plays bana go arctic research post members died either killing killing discover parasitic point madness problem certain dog lashes anyone could favorite episode season also one favorites arctic environment encloses characters course like lot fun watching characters suddenly start flip dramatic visual effects worm effects skin mind drama characters ends working would usually tension actors bana understand going loved ambiguity highly\"])"
   ]
  },
  {
   "cell_type": "code",
   "execution_count": 39,
   "id": "da224188",
   "metadata": {},
   "outputs": [
    {
     "data": {
      "text/plain": [
       "numpy.int64"
      ]
     },
     "execution_count": 39,
     "metadata": {},
     "output_type": "execute_result"
    }
   ],
   "source": [
    "type(model.predict(a)[0])"
   ]
  },
  {
   "cell_type": "code",
   "execution_count": 79,
   "id": "ebd7e02d",
   "metadata": {},
   "outputs": [
    {
     "name": "stdout",
     "output_type": "stream",
     "text": [
      "film listed made film available something weird video ed scare films one thing version swv disc earlier version film made wlwt television channel either way film unlike ed intended television broadcast viewing general thus level carnage ratcheted still pretty grim exercise exploitation bloody death purported educational live cincinnati area remember thing shown every year around prom time channel looking one film demonstrates tone uniquely american film last pretty typical extremely heavy whether really affected driving\n"
     ]
    }
   ],
   "source": [
    "a = x_test[18]\n",
    "print(a)"
   ]
  },
  {
   "cell_type": "code",
   "execution_count": 80,
   "id": "9300ac45",
   "metadata": {},
   "outputs": [
    {
     "data": {
      "text/plain": [
       "1"
      ]
     },
     "execution_count": 80,
     "metadata": {},
     "output_type": "execute_result"
    }
   ],
   "source": [
    "b= tf.transform([a])\n",
    "model.predict(b)[0]"
   ]
  },
  {
   "cell_type": "code",
   "execution_count": 82,
   "id": "fc1f2942",
   "metadata": {},
   "outputs": [],
   "source": [
    "prob_neg, prob_pos = model.predict_proba(b)[0]"
   ]
  },
  {
   "cell_type": "code",
   "execution_count": 83,
   "id": "ec932dcf",
   "metadata": {},
   "outputs": [
    {
     "data": {
      "text/plain": [
       "0.3798014832959513"
      ]
     },
     "execution_count": 83,
     "metadata": {},
     "output_type": "execute_result"
    }
   ],
   "source": [
    "prob_neg"
   ]
  }
 ],
 "metadata": {
  "kernelspec": {
   "display_name": "Python 3 (ipykernel)",
   "language": "python",
   "name": "python3"
  },
  "language_info": {
   "codemirror_mode": {
    "name": "ipython",
    "version": 3
   },
   "file_extension": ".py",
   "mimetype": "text/x-python",
   "name": "python",
   "nbconvert_exporter": "python",
   "pygments_lexer": "ipython3",
   "version": "3.9.16"
  }
 },
 "nbformat": 4,
 "nbformat_minor": 5
}
